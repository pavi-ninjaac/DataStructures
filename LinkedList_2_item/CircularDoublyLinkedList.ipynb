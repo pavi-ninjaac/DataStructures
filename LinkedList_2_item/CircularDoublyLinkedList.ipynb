{
 "cells": [
  {
   "cell_type": "code",
   "execution_count": 1,
   "metadata": {},
   "outputs": [],
   "source": [
    "# create node class\n",
    "class Node:\n",
    "    def __init__(self,value):\n",
    "        self.value = value\n",
    "        self.next = None\n",
    "        self.prev = None"
   ]
  },
  {
   "cell_type": "code",
   "execution_count": 83,
   "metadata": {},
   "outputs": [],
   "source": [
    "# create the linked list class\n",
    "class DoublyLinkedList:\n",
    "    def __init__(self):\n",
    "        self.head = None\n",
    "        self.tail = None\n",
    "    \n",
    "    def __iter__(self):\n",
    "        node = self.head\n",
    "        while node:\n",
    "            yield node\n",
    "            node = node.next\n",
    "            if node == self.tail.next:\n",
    "                break\n",
    "    def createCDLL(self,value):\n",
    "        node = Node(value)\n",
    "        \n",
    "        node.next = node\n",
    "        node.prev = node\n",
    "        \n",
    "        self.head = node\n",
    "        self.tail = node\n",
    "        print(\"First node created Successfully!!!\")\n",
    "    #insert the node at any point in the linked list\n",
    "    def insert(self,value,location):\n",
    "        if self.head is None:\n",
    "            print(\"You cant insert the node!!firat creat the linked list\")\n",
    "        \n",
    "        newnode = Node(value)\n",
    "        \n",
    "        #insert at the beginning\n",
    "        if location == 0:\n",
    "            newnode.next = self.head\n",
    "            newnode.prev = self.tail\n",
    "            self.head.prev = newnode    \n",
    "            \n",
    "            self.head = newnode\n",
    "            self.tail.next = newnode\n",
    "            \n",
    "        #insert at the end\n",
    "        elif location  == -1:\n",
    "            newnode.prev = self.tail\n",
    "            newnode.next = self.head\n",
    "            self.tail.next = newnode\n",
    "            self.tail = newnode\n",
    "            self.head.prev = self.tail\n",
    "            \n",
    "        #insert the node at specific location\n",
    "        else:\n",
    "            temp = self.head\n",
    "            index = 0\n",
    "            while index < location-1:\n",
    "                temp = temp.next\n",
    "                index  += 1\n",
    "            \n",
    "            prevnode = temp\n",
    "            nextnode = temp.next\n",
    "            \n",
    "            prevnode.next = newnode\n",
    "            newnode.prev = prevnode\n",
    "            \n",
    "            nextnode.prev = newnode\n",
    "            newnode.next = nextnode\n",
    "            \n",
    "        print(\"Node inserted Successfully!!!\")\n",
    "    \n",
    "    #Traverse method\n",
    "    def forwardTraversel(self):\n",
    "        if self.head is None:\n",
    "            print(\"The Linked List is Empty!!!!\")\n",
    "        node = self.head\n",
    "        while node:\n",
    "                print(node.value,end= \" \")\n",
    "                node = node.next\n",
    "                if node == self.tail.next:\n",
    "                    break\n",
    "    def reverseTraversal(self):\n",
    "        if self.head is None:\n",
    "            print(\"The Linked List is Empty!!!!\")\n",
    "        node = self.tail\n",
    "        while node:\n",
    "                print(node.value,end = \" \")\n",
    "                node = node.prev\n",
    "                if node == self.head.prev:\n",
    "                    break\n",
    "    #search the value in the linked list\n",
    "    def search(self,value):\n",
    "        node = self.head\n",
    "        index = 0\n",
    "        while node:\n",
    "            if node.value == value:\n",
    "                print(\"The value present in the linked list at the location of -->\",index)\n",
    "                break\n",
    "            \n",
    "            index  += 1\n",
    "            node = node.next\n",
    "            if node == self.tail.next:\n",
    "                break\n",
    "        if node == self.tail.next:\n",
    "            print(\"The value not present in the Linked list!!!!!\")\n",
    "            \n",
    "    #delete method in likedlist\n",
    "    def delete(self,location):\n",
    "        if self.head is None:\n",
    "            print(\"The Linked List is Empty!!!!\")\n",
    "        \n",
    "        else:\n",
    "        \n",
    "            #delete at the beginning\n",
    "            if location == 0:\n",
    "                if self.head == self.tail:\n",
    "                    self.head.prev = None\n",
    "                    self.head.tail = None\n",
    "                    \n",
    "                    self.head = None\n",
    "                    self.tail = None\n",
    "                else:\n",
    "            \n",
    "                    self.head = self.head.next\n",
    "                    self.head.prev = self.tail\n",
    "                    self.tail.next = self.head\n",
    "            \n",
    "            #insert at the end\n",
    "            elif location  == -1:\n",
    "                if self.head == self.tail:\n",
    "                    self.head.prev = None\n",
    "                    self.head.tail = None\n",
    "                    \n",
    "                    self.head = None\n",
    "                    self.tail = None\n",
    "                else:\n",
    "            \n",
    "                    self.tail = self.tail.prev\n",
    "                    self.tail.next = self.head\n",
    "                    self.head.prev = self.tail\n",
    "            \n",
    "                #insert the node at specific location\n",
    "            else:\n",
    "                temp = self.head\n",
    "                index = 0\n",
    "                while index < location:\n",
    "                    temp = temp.next\n",
    "                    index  += 1\n",
    "                \n",
    "                prevnode = temp.prev\n",
    "                nextnode = temp.next\n",
    "            \n",
    "                prevnode.next = nextnode\n",
    "                nextnode.prev = prevnode\n",
    "            \n",
    "                temp.next = None\n",
    "                temp.prev = None      \n",
    "    #indsert delete the entier linked list\n",
    "    def deleteFullLinkedList(self):\n",
    "        node = self.head\n",
    "        while node:\n",
    "            node.prev = None\n",
    "            node = node.next\n",
    "        self.head = None\n",
    "        self.tail = None"
   ]
  },
  {
   "cell_type": "code",
   "execution_count": 84,
   "metadata": {},
   "outputs": [],
   "source": [
    "cdll = DoublyLinkedList()"
   ]
  },
  {
   "cell_type": "code",
   "execution_count": 85,
   "metadata": {},
   "outputs": [
    {
     "name": "stdout",
     "output_type": "stream",
     "text": [
      "First node created Successfully!!!\n",
      "Node inserted Successfully!!!\n"
     ]
    }
   ],
   "source": [
    "cdll.createCDLL(1)\n",
    "cdll.insert(2,0)"
   ]
  },
  {
   "cell_type": "code",
   "execution_count": 86,
   "metadata": {},
   "outputs": [
    {
     "name": "stdout",
     "output_type": "stream",
     "text": [
      "[2, 1]\n"
     ]
    }
   ],
   "source": [
    "print([node.value for node in cdll])"
   ]
  },
  {
   "cell_type": "code",
   "execution_count": 87,
   "metadata": {},
   "outputs": [
    {
     "name": "stdout",
     "output_type": "stream",
     "text": [
      "Node inserted Successfully!!!\n",
      "Node inserted Successfully!!!\n",
      "Node inserted Successfully!!!\n",
      "[2, 1, 3, 4, 6]\n"
     ]
    }
   ],
   "source": [
    "#insert at the end and sepecific location\n",
    "cdll.insert(4,-1)\n",
    "cdll.insert(6,-1)\n",
    "cdll.insert(3,2)\n",
    "print([node.value for node in cdll])"
   ]
  },
  {
   "cell_type": "code",
   "execution_count": 88,
   "metadata": {},
   "outputs": [
    {
     "name": "stdout",
     "output_type": "stream",
     "text": [
      "2 1 3 4 6 \n",
      "reverse traversal\n",
      "6 4 3 1 2 "
     ]
    }
   ],
   "source": [
    "cdll.forwardTraversel()\n",
    "print()\n",
    "print(\"reverse traversal\")\n",
    "cdll.reverseTraversal()"
   ]
  },
  {
   "cell_type": "code",
   "execution_count": 89,
   "metadata": {},
   "outputs": [
    {
     "name": "stdout",
     "output_type": "stream",
     "text": [
      "The value present in the linked list at the location of --> 4\n",
      "The value not present in the Linked list!!!!!\n"
     ]
    }
   ],
   "source": [
    "#search the element \n",
    "cdll.search(6)\n",
    "cdll.search(11)"
   ]
  },
  {
   "cell_type": "code",
   "execution_count": 90,
   "metadata": {},
   "outputs": [
    {
     "name": "stdout",
     "output_type": "stream",
     "text": [
      "1 3 4 \n",
      "1 4 "
     ]
    }
   ],
   "source": [
    "#delete the value\n",
    "cdll.delete(0)\n",
    "cdll.delete(-1)\n",
    "cdll.forwardTraversel()\n",
    "print()\n",
    "cdll.delete(1)\n",
    "cdll.forwardTraversel()"
   ]
  },
  {
   "cell_type": "code",
   "execution_count": null,
   "metadata": {},
   "outputs": [],
   "source": []
  }
 ],
 "metadata": {
  "kernelspec": {
   "display_name": "Python 3",
   "language": "python",
   "name": "python3"
  },
  "language_info": {
   "codemirror_mode": {
    "name": "ipython",
    "version": 3
   },
   "file_extension": ".py",
   "mimetype": "text/x-python",
   "name": "python",
   "nbconvert_exporter": "python",
   "pygments_lexer": "ipython3",
   "version": "3.7.6"
  }
 },
 "nbformat": 4,
 "nbformat_minor": 4
}
