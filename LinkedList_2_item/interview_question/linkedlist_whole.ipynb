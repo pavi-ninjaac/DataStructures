{
 "cells": [
  {
   "cell_type": "code",
   "execution_count": 2,
   "metadata": {},
   "outputs": [],
   "source": [
    "from random import randint\n",
    "class Node:\n",
    "    def __init__(self, value=None):\n",
    "        self.value = value\n",
    "        self.next = None\n",
    "        self.prev = None\n",
    "    def __str__(self):\n",
    "        return str(self.value)"
   ]
  },
  {
   "cell_type": "code",
   "execution_count": 8,
   "metadata": {},
   "outputs": [],
   "source": [
    "class LinkedList:\n",
    "    def __init__(self, values = None):\n",
    "        self.head = None\n",
    "        self.tail = None\n",
    "    def __iter__(self):\n",
    "        node=self.head\n",
    "        while node:\n",
    "            yield node\n",
    "            node = node.next\n",
    "    def __str__(self):\n",
    "        v = [str(node.value) for node in self]\n",
    "        return \"-->\".join(v)\n",
    "    def __len__(self):\n",
    "        l = 0\n",
    "        node = self.head\n",
    "        while node:\n",
    "            l += 1\n",
    "            node = node.next\n",
    "        return l\n",
    "    def insert(self,value):\n",
    "        newnode = Node(value)\n",
    "        if self.head is None:\n",
    "            self.head = newnode\n",
    "            self.tail = newnode\n",
    "        else:\n",
    "            self.tail.next = newnode\n",
    "            self.tail = newnode\n",
    "        print(\"Node inserted successfully!!!\")\n",
    "    def generate(self, n ,min_value, max_value):\n",
    "        self.head = None\n",
    "        self.tail = None\n",
    "        for i in range(n):\n",
    "            self.insert(randint(min_value,max_value))\n",
    "        return self"
   ]
  },
  {
   "cell_type": "code",
   "execution_count": 9,
   "metadata": {},
   "outputs": [
    {
     "name": "stdout",
     "output_type": "stream",
     "text": [
      "Node inserted successfully!!!\n",
      "Node inserted successfully!!!\n",
      "Node inserted successfully!!!\n",
      "Node inserted successfully!!!\n",
      "Node inserted successfully!!!\n",
      "Node inserted successfully!!!\n",
      "Node inserted successfully!!!\n",
      "Node inserted successfully!!!\n",
      "Node inserted successfully!!!\n",
      "Node inserted successfully!!!\n",
      "9-->18-->15-->0-->95-->61-->84-->58-->90-->57\n",
      "10\n"
     ]
    }
   ],
   "source": [
    "customLL = LinkedList()\n",
    "customLL.generate(10, 0, 99)\n",
    "print(customLL)\n",
    "print(len(customLL))"
   ]
  },
  {
   "cell_type": "code",
   "execution_count": null,
   "metadata": {},
   "outputs": [],
   "source": []
  }
 ],
 "metadata": {
  "kernelspec": {
   "display_name": "Python 3",
   "language": "python",
   "name": "python3"
  },
  "language_info": {
   "codemirror_mode": {
    "name": "ipython",
    "version": 3
   },
   "file_extension": ".py",
   "mimetype": "text/x-python",
   "name": "python",
   "nbconvert_exporter": "python",
   "pygments_lexer": "ipython3",
   "version": "3.7.6"
  }
 },
 "nbformat": 4,
 "nbformat_minor": 4
}
