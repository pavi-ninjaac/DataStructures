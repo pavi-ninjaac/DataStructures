{
 "cells": [
  {
   "cell_type": "code",
   "execution_count": 4,
   "metadata": {},
   "outputs": [],
   "source": [
    "from random import randint\n",
    "class Node:\n",
    "    def __init__(self, value=None):\n",
    "        self.value = value\n",
    "        self.next = None\n",
    "        self.prev = None\n",
    "    def __str__(self):\n",
    "        return str(self.value)\n",
    "class LinkedList:\n",
    "    def __init__(self, values = None):\n",
    "        self.head = None\n",
    "        self.tail = None\n",
    "    def __iter__(self):\n",
    "        node=self.head\n",
    "        while node:\n",
    "            yield node\n",
    "            node = node.next\n",
    "    def __str__(self):\n",
    "        v = [str(node.value) for node in self]\n",
    "        return \"-->\".join(v)\n",
    "    def __len__(self):\n",
    "        l = 0\n",
    "        node = self.head\n",
    "        while node:\n",
    "            l += 1\n",
    "            node = node.next\n",
    "        return l\n",
    "    def insert(self,value):\n",
    "        newnode = Node(value)\n",
    "        if self.head is None:\n",
    "            self.head = newnode\n",
    "            self.tail = newnode\n",
    "        else:\n",
    "            self.tail.next = newnode\n",
    "            self.tail = newnode\n",
    "        print(\"Node inserted successfully!!!\")\n",
    "    def generate(self, n ,min_value, max_value):\n",
    "        self.head = None\n",
    "        self.tail = None\n",
    "        for i in range(n):\n",
    "            self.insert(randint(min_value,max_value))\n",
    "        return self"
   ]
  },
  {
   "cell_type": "code",
   "execution_count": 10,
   "metadata": {},
   "outputs": [
    {
     "name": "stdout",
     "output_type": "stream",
     "text": [
      "Node inserted successfully!!!\n",
      "Node inserted successfully!!!\n",
      "Node inserted successfully!!!\n",
      "Node inserted successfully!!!\n",
      "Node inserted successfully!!!\n",
      "Node inserted successfully!!!\n",
      "Node inserted successfully!!!\n",
      "Node inserted successfully!!!\n",
      "Node inserted successfully!!!\n",
      "Node inserted successfully!!!\n",
      "97-->82-->16-->77-->82-->62-->11-->66-->37-->83\n",
      "97-->82-->16-->77-->62-->11-->66-->37-->83\n"
     ]
    }
   ],
   "source": [
    "#peoblem strats here above copied from last file\n",
    "def removedup(ll):\n",
    "    node = ll.head\n",
    "    \n",
    "    visited = set([node.value])\n",
    "    while node.next:\n",
    "        if node.next.value  in visited:\n",
    "            node.next = node.next.next\n",
    "        else:\n",
    "            visited.add(node.next.value)\n",
    "            node = node.next\n",
    "    return ll\n",
    "\n",
    "linkedlist = LinkedList()\n",
    "linkedlist.generate(10,0,99)\n",
    "print(linkedlist)\n",
    "removedup(linkedlist)\n",
    "print(linkedlist)\n",
    "        "
   ]
  },
  {
   "cell_type": "code",
   "execution_count": null,
   "metadata": {},
   "outputs": [],
   "source": []
  },
  {
   "cell_type": "code",
   "execution_count": null,
   "metadata": {},
   "outputs": [],
   "source": []
  }
 ],
 "metadata": {
  "kernelspec": {
   "display_name": "Python 3",
   "language": "python",
   "name": "python3"
  },
  "language_info": {
   "codemirror_mode": {
    "name": "ipython",
    "version": 3
   },
   "file_extension": ".py",
   "mimetype": "text/x-python",
   "name": "python",
   "nbconvert_exporter": "python",
   "pygments_lexer": "ipython3",
   "version": "3.7.6"
  }
 },
 "nbformat": 4,
 "nbformat_minor": 4
}
