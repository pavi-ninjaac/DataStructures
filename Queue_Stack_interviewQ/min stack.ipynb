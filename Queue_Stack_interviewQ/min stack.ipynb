{
 "cells": [
  {
   "cell_type": "code",
   "execution_count": 12,
   "metadata": {},
   "outputs": [],
   "source": [
    "# declare the push,pop,min methods for the stack and  all should be run in O(1) time complexcity\n",
    "# so we cant search for the min value using loops\n",
    "# so we are here creating separe linkedlist for track the min value\n",
    "class Node:\n",
    "    def __init__(self , value =None, nodenext = None ):\n",
    "        self.value = value\n",
    "        self.next = nodenext\n",
    "        \n",
    "    def __str__(self):\n",
    "        s = str(self.value)\n",
    "        if self.next:\n",
    "            s+= ',' + str(self.next)\n",
    "        return s\n",
    "    \n",
    "class Stack:\n",
    "    def __init__(self):\n",
    "        self.head = None\n",
    "        self.min = None\n",
    "        \n",
    "    def minnode(self):\n",
    "        if self.min ==  None:\n",
    "            print(\"The stack is empty!!!\")\n",
    "        else:\n",
    "            return self.min.value\n",
    "    \n",
    "    #push method\n",
    "    def push(self,value):\n",
    "        if self.min and (self.min.value < value):\n",
    "            self.min = Node(value = self.min.value , nodenext = self.min)\n",
    "        else:\n",
    "            self.min = Node(value = value , nodenext = self.min)\n",
    "        self.head = Node(value = value, nodenext = self.head)\n",
    "        print(\"The element added at the top-->\",value)\n",
    "    \n",
    "    #pop method \n",
    "    def pop(self):\n",
    "        if self.head == None:\n",
    "            return \"The Stack is empty\"\n",
    "        else:\n",
    "            self.min = self.min.next\n",
    "            \n",
    "            value = self.head.value\n",
    "            self.head = self.head.next\n",
    "            return value\n",
    "        \n",
    "        \n",
    "    "
   ]
  },
  {
   "cell_type": "code",
   "execution_count": 13,
   "metadata": {},
   "outputs": [
    {
     "name": "stdout",
     "output_type": "stream",
     "text": [
      "<__main__.Stack object at 0x06254370>\n"
     ]
    }
   ],
   "source": [
    "#check the stack\n",
    "s = Stack()\n",
    "print(s)"
   ]
  },
  {
   "cell_type": "code",
   "execution_count": 14,
   "metadata": {},
   "outputs": [
    {
     "name": "stdout",
     "output_type": "stream",
     "text": [
      "The element added at the top--> 5\n",
      "5\n",
      "The element added at the top--> 3\n",
      "3\n",
      "The element added at the top--> 7\n",
      "3\n",
      "The element added at the top--> 4\n",
      "3\n"
     ]
    }
   ],
   "source": [
    "s.push(5)\n",
    "print(s.minnode())\n",
    "s.push(3)\n",
    "print(s.minnode())\n",
    "s.push(7)\n",
    "print(s.minnode())\n",
    "s.push(4)\n",
    "print(s.minnode())"
   ]
  },
  {
   "cell_type": "code",
   "execution_count": 15,
   "metadata": {},
   "outputs": [
    {
     "name": "stdout",
     "output_type": "stream",
     "text": [
      "The returned value 4\n",
      "3\n",
      "The returned value 7\n",
      "3\n",
      "The returned value 3\n",
      "5\n"
     ]
    }
   ],
   "source": [
    "print(\"The returned value\",s.pop())\n",
    "print(s.minnode())\n",
    "print(\"The returned value\",s.pop())\n",
    "print(s.minnode())\n",
    "print(\"The returned value\",s.pop())\n",
    "print(s.minnode())"
   ]
  },
  {
   "cell_type": "code",
   "execution_count": null,
   "metadata": {},
   "outputs": [],
   "source": []
  }
 ],
 "metadata": {
  "kernelspec": {
   "display_name": "Python 3",
   "language": "python",
   "name": "python3"
  },
  "language_info": {
   "codemirror_mode": {
    "name": "ipython",
    "version": 3
   },
   "file_extension": ".py",
   "mimetype": "text/x-python",
   "name": "python",
   "nbconvert_exporter": "python",
   "pygments_lexer": "ipython3",
   "version": "3.7.6"
  }
 },
 "nbformat": 4,
 "nbformat_minor": 4
}
