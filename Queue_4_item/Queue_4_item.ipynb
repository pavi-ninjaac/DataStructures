{
 "cells": [
  {
   "cell_type": "markdown",
   "metadata": {},
   "source": [
    "# Queue"
   ]
  },
  {
   "cell_type": "code",
   "execution_count": 3,
   "metadata": {},
   "outputs": [],
   "source": [
    "class Queue:\n",
    "    def __init__(self):\n",
    "        self.queue = []\n",
    "        \n",
    "    def __str__(self):\n",
    "        values = [str(x) for x in self.queue]\n",
    "        return \" \".join(values)\n",
    "    \n",
    "    def isEmpty(self):\n",
    "        if self.queue == []:\n",
    "            return True\n",
    "        return False\n",
    "    \n",
    "    def enqueue(self,value):\n",
    "        self.queue.append(value)\n",
    "        print(\"The value is inserted!!\")\n",
    "        \n",
    "    def dequeue(self):\n",
    "        if self.isEmpty():\n",
    "            print(\"The queue is Empty! not created yet!!!\")\n",
    "        else:\n",
    "            return self.queue.pop(0)\n",
    "        \n",
    "    def delete(self):\n",
    "        self.queue = None"
   ]
  },
  {
   "cell_type": "code",
   "execution_count": 4,
   "metadata": {},
   "outputs": [
    {
     "name": "stdout",
     "output_type": "stream",
     "text": [
      "The value is inserted!!\n",
      "The value is inserted!!\n",
      "The value is inserted!!\n",
      "The value is inserted!!\n",
      "1 2 3 4\n",
      "1\n",
      "2\n",
      "3 4\n"
     ]
    }
   ],
   "source": [
    "q = Queue()\n",
    "#insert the value\n",
    "q.isEmpty()\n",
    "q.enqueue(1)\n",
    "q.enqueue(2)\n",
    "q.enqueue(3)\n",
    "q.enqueue(4)\n",
    "\n",
    "print(q)\n",
    "\n",
    "#dequeue the values\n",
    "it1 = q.dequeue()\n",
    "it2 = q.dequeue()\n",
    "\n",
    "print(it1)\n",
    "print(it2)\n",
    "\n",
    "print(q)"
   ]
  },
  {
   "cell_type": "code",
   "execution_count": 15,
   "metadata": {},
   "outputs": [],
   "source": [
    "#circular Queue\n",
    "class CircularQueue:\n",
    "    def __init__(self,maxsize):\n",
    "        self.queue = maxsize * [None]\n",
    "        self.maxsize = maxsize\n",
    "        self.start = -1\n",
    "        self.top = -1\n",
    "        \n",
    "    def __str__(self):\n",
    "        values = [str(x) for x in self.queue]\n",
    "        return \" \".join(values)\n",
    "    \n",
    "    def isFull(self):\n",
    "        if (self.top + 1 == self.start) or (self.start == 0 and self.top+1== self.maxsize):\n",
    "            return True\n",
    "        return False\n",
    "    \n",
    "    def isEmpty(self):\n",
    "        if self.top == -1:\n",
    "            return True\n",
    "        return False\n",
    "    def enqueue(self,value):\n",
    "        if self.isFull():\n",
    "            print(\"the Queue is Full!! cant add it!!\")\n",
    "        else:\n",
    "            if self.top + 1 == self.maxsize:\n",
    "                self.top = 0\n",
    "            else:\n",
    "                self.top += 1\n",
    "                if self.start == -1:\n",
    "                    self.start = 0\n",
    "                self.queue[self.top] = value\n",
    "                print(\"The value inserted!!!\")\n",
    "    #dequeue method\n",
    "    def dequeue(self):\n",
    "        if self.isEmpty():\n",
    "            print(\"The queue is Empty!!!\")\n",
    "        else:\n",
    "            element = self.queue[self.start]\n",
    "            start = self.start\n",
    "            #check it was the only element in the queue\n",
    "            if self.start == self.top:\n",
    "                self.start = -1\n",
    "                self.top = -1\n",
    "            elif self.start +1  == self.maxsize:\n",
    "                self.start = 0\n",
    "            else:\n",
    "                self.start += 1\n",
    "            self.queue[start] = None\n",
    "            return element\n",
    "    def peek(self):\n",
    "        #the elemene in the start is the peek element\n",
    "        return self.queue[self.start]\n",
    "    \n",
    "    \n",
    "        "
   ]
  },
  {
   "cell_type": "code",
   "execution_count": 16,
   "metadata": {},
   "outputs": [
    {
     "name": "stdout",
     "output_type": "stream",
     "text": [
      "True\n",
      "The value inserted!!!\n",
      "The value inserted!!!\n",
      "The value inserted!!!\n",
      "The value inserted!!!\n",
      "True\n",
      "1 2 3 4\n",
      "1\n",
      "2\n",
      "None None 3 4\n"
     ]
    }
   ],
   "source": [
    "q = CircularQueue(4)\n",
    "#insert the value\n",
    "print(q.isEmpty())\n",
    "q.enqueue(1)\n",
    "q.enqueue(2)\n",
    "q.enqueue(3)\n",
    "q.enqueue(4)\n",
    "print(q.isFull())\n",
    "print(q)\n",
    "\n",
    "#dequeue the values\n",
    "it1 = q.dequeue()\n",
    "it2 = q.dequeue()\n",
    "\n",
    "print(it1)\n",
    "print(it2)\n",
    "\n",
    "print(q)"
   ]
  },
  {
   "cell_type": "code",
   "execution_count": 17,
   "metadata": {},
   "outputs": [
    {
     "data": {
      "text/plain": [
       "3"
      ]
     },
     "execution_count": 17,
     "metadata": {},
     "output_type": "execute_result"
    }
   ],
   "source": [
    "#the peek element\n",
    "q.peek()"
   ]
  },
  {
   "cell_type": "markdown",
   "metadata": {},
   "source": [
    "# Queue using Linked List"
   ]
  },
  {
   "cell_type": "code",
   "execution_count": 42,
   "metadata": {},
   "outputs": [],
   "source": [
    "class Node:\n",
    "    def __init__(self,value = None):\n",
    "        self.value = value\n",
    "        self.next = None\n",
    "    \n",
    "    \n",
    "class LinkedList:\n",
    "    def __init__(self):\n",
    "        self.head  = None\n",
    "        self.tail = None\n",
    "        \n",
    "    def __iter__(self):\n",
    "        node = self.head\n",
    "        while node:\n",
    "            yield node\n",
    "            node = node.next\n",
    "\n",
    "class Queue:\n",
    "    def __init__(self):\n",
    "        self.linkedlist = LinkedList()\n",
    "    \n",
    "    def __str__(self):\n",
    "        values = [str(x.value) for x in self.linkedlist]\n",
    "        return \" \".join(values)\n",
    "    \n",
    "    def isEmpty(self):\n",
    "        if self.linkedlist.head == None:\n",
    "            return True \n",
    "        return False\n",
    "    \n",
    "    def enqueue(self,value):\n",
    "        if self.isEmpty():\n",
    "            newnode = Node(value)\n",
    "            self.linkedlist.head = newnode\n",
    "            self.linkedlist.tail = newnode\n",
    "            print(\"First Element added at the End!!\")\n",
    "        else:\n",
    "            newnode = Node(value)\n",
    "            self.linkedlist.tail.next = newnode\n",
    "            self.linkedlist.tail = newnode\n",
    "            print(\"the Element added at the End\")\n",
    "        \n",
    "        \n",
    "    def dequeue(self):\n",
    "        if self.isEmpty():\n",
    "            print(\"The Stack is Empty!! not created yet!!!\")\n",
    "        else:\n",
    "            nodevalue = self.linkedlist.head.value\n",
    "            self.linkedlist.head = self.linkedlist.head.next\n",
    "            return nodevalue\n",
    "        \n",
    "    def peek(self):\n",
    "        if self.isEmpty():\n",
    "            print(\"The Stack is Empty!! not created yet!!!\")\n",
    "        else:\n",
    "            return self.linkedlist.head.value\n",
    "        \n",
    "    def delete(self):\n",
    "        self.linkedlist.head = None\n",
    "        print(\"The Stack deleted fully!!!\") "
   ]
  },
  {
   "cell_type": "code",
   "execution_count": 43,
   "metadata": {},
   "outputs": [
    {
     "name": "stdout",
     "output_type": "stream",
     "text": [
      "True\n",
      "First Element added at the End!!\n",
      "False\n",
      "the Element added at the End\n",
      "the Element added at the End\n",
      "the Element added at the End\n",
      "1 2 3 4\n",
      "1\n",
      "2\n",
      "3 4\n",
      "the Element added at the End\n",
      "3 4 5\n"
     ]
    }
   ],
   "source": [
    "q = Queue()\n",
    "#insert the value\n",
    "print(q.isEmpty())\n",
    "q.enqueue(1)\n",
    "print(q.isEmpty())\n",
    "q.enqueue(2)\n",
    "q.enqueue(3)\n",
    "q.enqueue(4)\n",
    "\n",
    "print(q)\n",
    "\n",
    "#dequeue the values\n",
    "it1 = q.dequeue()\n",
    "it2 = q.dequeue()\n",
    "\n",
    "print(it1)\n",
    "print(it2)\n",
    "\n",
    "print(q)\n",
    "q.enqueue(5)\n",
    "print(q)"
   ]
  },
  {
   "cell_type": "code",
   "execution_count": null,
   "metadata": {},
   "outputs": [],
   "source": []
  },
  {
   "cell_type": "code",
   "execution_count": null,
   "metadata": {},
   "outputs": [],
   "source": []
  },
  {
   "cell_type": "code",
   "execution_count": null,
   "metadata": {},
   "outputs": [],
   "source": []
  },
  {
   "cell_type": "code",
   "execution_count": null,
   "metadata": {},
   "outputs": [],
   "source": []
  }
 ],
 "metadata": {
  "kernelspec": {
   "display_name": "Python 3",
   "language": "python",
   "name": "python3"
  },
  "language_info": {
   "codemirror_mode": {
    "name": "ipython",
    "version": 3
   },
   "file_extension": ".py",
   "mimetype": "text/x-python",
   "name": "python",
   "nbconvert_exporter": "python",
   "pygments_lexer": "ipython3",
   "version": "3.7.6"
  }
 },
 "nbformat": 4,
 "nbformat_minor": 4
}
