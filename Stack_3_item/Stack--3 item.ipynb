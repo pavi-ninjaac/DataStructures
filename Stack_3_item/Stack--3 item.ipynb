{
 "cells": [
  {
   "cell_type": "markdown",
   "metadata": {},
   "source": [
    "# Stack---3 part"
   ]
  },
  {
   "cell_type": "code",
   "execution_count": 29,
   "metadata": {},
   "outputs": [],
   "source": [
    "class Stack:\n",
    "    def __init__(self):\n",
    "        self.list = []\n",
    "    \n",
    "    def __str__(self):\n",
    "        self.list.reverse()\n",
    "        values = [str(x) for x in self.list]\n",
    "        self.list.reverse()\n",
    "        return '\\n'.join(values)\n",
    "    \n",
    "    #isEmpty method\n",
    "    def isEmpty(self):\n",
    "        if self.list == []:\n",
    "            return True\n",
    "        else:\n",
    "            return False\n",
    "    \n",
    "    #push method\n",
    "    def push(self,value):\n",
    "        self.list.append(value)\n",
    "        print(\"value inserted at the end!!\")\n",
    "    \n",
    "    #pop mehthod\n",
    "    def pop(self):\n",
    "        if self.isEmpty():\n",
    "            print(\"The Stack is empty!! not created yet!\")\n",
    "        else:\n",
    "            return self.list.pop()\n",
    "    \n",
    "    #peek method\n",
    "    def peek(self):\n",
    "        if self.isEmpty():\n",
    "            print(\"The Stack is empty!! not created yet!\")\n",
    "        else:\n",
    "            return self.list[-1]\n",
    "    \n",
    "    #delete method\n",
    "    def delete(self):\n",
    "        self.list = None\n",
    "        "
   ]
  },
  {
   "cell_type": "code",
   "execution_count": 30,
   "metadata": {},
   "outputs": [
    {
     "name": "stdout",
     "output_type": "stream",
     "text": [
      "value inserted at the end!!\n",
      "value inserted at the end!!\n",
      "value inserted at the end!!\n",
      "4\n",
      "3\n",
      "2\n"
     ]
    }
   ],
   "source": [
    "#create a stack\n",
    "stack = Stack()\n",
    "#push some values\n",
    "stack.push(2)\n",
    "stack.push(3)\n",
    "stack.push(4)\n",
    "print(stack)"
   ]
  },
  {
   "cell_type": "code",
   "execution_count": 31,
   "metadata": {},
   "outputs": [
    {
     "name": "stdout",
     "output_type": "stream",
     "text": [
      "4\n"
     ]
    }
   ],
   "source": [
    "# peek value\n",
    "print(stack.peek())"
   ]
  },
  {
   "cell_type": "code",
   "execution_count": 32,
   "metadata": {},
   "outputs": [
    {
     "name": "stdout",
     "output_type": "stream",
     "text": [
      "4\n"
     ]
    }
   ],
   "source": [
    "#pop\n",
    "pop_item = stack.pop()\n",
    "print(pop_item)"
   ]
  },
  {
   "cell_type": "markdown",
   "metadata": {},
   "source": [
    "# Creating Stack with maxSize"
   ]
  },
  {
   "cell_type": "code",
   "execution_count": 33,
   "metadata": {},
   "outputs": [],
   "source": [
    "class Stack:\n",
    "    def __init__(self,maxsize):\n",
    "        self.list = []\n",
    "        self.maxsize = maxsize\n",
    "    \n",
    "    def __str__(self):\n",
    "        self.list.reverse()\n",
    "        values = [str(x) for x in self.list]\n",
    "        self.list.reverse()\n",
    "        return '\\n'.join(values)\n",
    "    \n",
    "    #isEmpty method\n",
    "    def isEmpty(self):\n",
    "        if self.list == []:\n",
    "            return True\n",
    "        else:\n",
    "            return False\n",
    "    \n",
    "    #isFull method\n",
    "    def isFull(self):\n",
    "        if len(self.list) == self.maxsize:\n",
    "            return True\n",
    "        else:\n",
    "            return False\n",
    "    \n",
    "    #push method\n",
    "    def push(self,value):\n",
    "        if self.isFull():\n",
    "            print(\"The stack is Full>>> Cnat add element!!\")\n",
    "        else:\n",
    "            self.list.append(value)\n",
    "            print(\"value inserted at the end!!\")\n",
    "    \n",
    "    #pop mehthod\n",
    "    def pop(self):\n",
    "        if self.isEmpty():\n",
    "            print(\"The Stack is empty!! not created yet!\")\n",
    "        else:\n",
    "            return self.list.pop()\n",
    "    \n",
    "    #peek method\n",
    "    def peek(self):\n",
    "        if self.isEmpty():\n",
    "            print(\"The Stack is empty!! not created yet!\")\n",
    "        else:\n",
    "            return self.list[-1]\n",
    "    \n",
    "    #delete method\n",
    "    def delete(self):\n",
    "        self.list = None\n",
    "        "
   ]
  },
  {
   "cell_type": "code",
   "execution_count": 35,
   "metadata": {},
   "outputs": [
    {
     "name": "stdout",
     "output_type": "stream",
     "text": [
      "True\n",
      "False\n",
      "value inserted at the end!!\n",
      "value inserted at the end!!\n",
      "value inserted at the end!!\n",
      "4\n",
      "3\n",
      "2\n"
     ]
    }
   ],
   "source": [
    "#create a stack\n",
    "stack = Stack(12)\n",
    "print(stack.isEmpty())\n",
    "print(stack.isFull())\n",
    "#push some values\n",
    "stack.push(2)\n",
    "stack.push(3)\n",
    "stack.push(4)\n",
    "print(stack)"
   ]
  },
  {
   "cell_type": "code",
   "execution_count": 36,
   "metadata": {},
   "outputs": [
    {
     "name": "stdout",
     "output_type": "stream",
     "text": [
      "4\n"
     ]
    }
   ],
   "source": [
    "# peek value\n",
    "print(stack.peek())"
   ]
  },
  {
   "cell_type": "code",
   "execution_count": 37,
   "metadata": {},
   "outputs": [
    {
     "name": "stdout",
     "output_type": "stream",
     "text": [
      "4\n"
     ]
    }
   ],
   "source": [
    "#pop\n",
    "pop_item = stack.pop()\n",
    "print(pop_item)"
   ]
  },
  {
   "cell_type": "markdown",
   "metadata": {},
   "source": [
    "# Stack method using LinkedList"
   ]
  },
  {
   "cell_type": "code",
   "execution_count": 74,
   "metadata": {},
   "outputs": [],
   "source": [
    "class Node:\n",
    "    def __init__(self,value = None):\n",
    "        self.value = value\n",
    "        self.next = None\n",
    "        \n",
    "class LinkedList:\n",
    "    def __init__(self):\n",
    "        self.head = None\n",
    "    def __iter__(self):\n",
    "        node = self.head\n",
    "        while node:\n",
    "            yield node\n",
    "            node = node.next\n",
    "        \n",
    "#define the Stack class\n",
    "class Stack:\n",
    "    def __init__(self):\n",
    "        self.linkedlist = LinkedList()\n",
    "        \n",
    "    def __str__(self):\n",
    "        values = [str(x.value) for x in self.linkedlist]\n",
    "        return \"\\n\".join(values)\n",
    "        \n",
    "    def isEmpty(self):\n",
    "        if self.linkedlist.head == None:\n",
    "            return True\n",
    "        else:\n",
    "            return False\n",
    "    \n",
    "    def push(self,value):\n",
    "        newnode = Node(value)\n",
    "        newnode.next = self.linkedlist.head\n",
    "        self.linkedlist.head = newnode\n",
    "        print(\"Element inserted in the Stack!!!\")\n",
    "    \n",
    "    def pop(self):\n",
    "        if self.isEmpty():\n",
    "            print(\"The Stack is Empty!! not created yet!!!\")\n",
    "        else:\n",
    "            nodevalue = self.linkedlist.head.value\n",
    "            self.linkedlist.head = self.linkedlist.head.next\n",
    "            return nodevalue\n",
    "    \n",
    "    def peek(self):\n",
    "        if self.isEmpty():\n",
    "            print(\"The Stack is Empty!! not created yet!!!\")\n",
    "        else:\n",
    "            return self.linkedlist.head.value\n",
    "        \n",
    "    def delete(self):\n",
    "        self.linkedlist.head = None\n",
    "        print(\"The Stack deleted fully!!!\")   "
   ]
  },
  {
   "cell_type": "code",
   "execution_count": 75,
   "metadata": {},
   "outputs": [
    {
     "name": "stdout",
     "output_type": "stream",
     "text": [
      "True\n",
      "Element inserted in the Stack!!!\n",
      "Element inserted in the Stack!!!\n",
      "Element inserted in the Stack!!!\n",
      "4\n",
      "3\n",
      "2\n"
     ]
    }
   ],
   "source": [
    "#create a stack\n",
    "stack = Stack()\n",
    "print(stack.isEmpty())\n",
    "\n",
    "#push some values\n",
    "stack.push(2)\n",
    "stack.push(3)\n",
    "stack.push(4)\n",
    "print(stack)"
   ]
  },
  {
   "cell_type": "code",
   "execution_count": 76,
   "metadata": {},
   "outputs": [
    {
     "name": "stdout",
     "output_type": "stream",
     "text": [
      "3\n",
      "2\n"
     ]
    }
   ],
   "source": [
    "#pop\n",
    "stack.pop()\n",
    "print(stack)"
   ]
  },
  {
   "cell_type": "code",
   "execution_count": 77,
   "metadata": {},
   "outputs": [
    {
     "name": "stdout",
     "output_type": "stream",
     "text": [
      "3\n"
     ]
    }
   ],
   "source": [
    "# peek value\n",
    "print(stack.peek())"
   ]
  },
  {
   "cell_type": "code",
   "execution_count": 78,
   "metadata": {},
   "outputs": [
    {
     "name": "stdout",
     "output_type": "stream",
     "text": [
      "The Stack deleted fully!!!\n",
      "\n"
     ]
    }
   ],
   "source": [
    "stack.delete()\n",
    "print(stack)"
   ]
  },
  {
   "cell_type": "code",
   "execution_count": null,
   "metadata": {},
   "outputs": [],
   "source": []
  },
  {
   "cell_type": "code",
   "execution_count": null,
   "metadata": {},
   "outputs": [],
   "source": []
  }
 ],
 "metadata": {
  "kernelspec": {
   "display_name": "Python 3",
   "language": "python",
   "name": "python3"
  },
  "language_info": {
   "codemirror_mode": {
    "name": "ipython",
    "version": 3
   },
   "file_extension": ".py",
   "mimetype": "text/x-python",
   "name": "python",
   "nbconvert_exporter": "python",
   "pygments_lexer": "ipython3",
   "version": "3.7.6"
  }
 },
 "nbformat": 4,
 "nbformat_minor": 4
}
