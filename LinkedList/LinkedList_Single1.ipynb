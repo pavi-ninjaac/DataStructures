{
 "cells": [
  {
   "cell_type": "markdown",
   "metadata": {},
   "source": [
    "# Linked List"
   ]
  },
  {
   "cell_type": "markdown",
   "metadata": {},
   "source": [
    "### Singly Linked List"
   ]
  },
  {
   "cell_type": "code",
   "execution_count": 1,
   "metadata": {},
   "outputs": [],
   "source": [
    "# step---1 Creation of the nodes and link\n",
    "class Node:\n",
    "    def __init__(self,value=None):\n",
    "        self.value = value\n",
    "        self.next = None\n",
    "    "
   ]
  },
  {
   "cell_type": "code",
   "execution_count": 146,
   "metadata": {},
   "outputs": [],
   "source": [
    "# create the link class\n",
    "class SinglyLinkedList:\n",
    "    def __init__(self):\n",
    "        self.head = None\n",
    "        self.tail = None\n",
    "    \n",
    "    def __iter__(self):\n",
    "        if self.head == None:\n",
    "            print(\"The Linked list is None! Not created yet!\")  \n",
    "        else:\n",
    "            node = self.head\n",
    "            while node:\n",
    "                yield node\n",
    "                node = node.next        \n",
    "    \n",
    "    #insertion function\n",
    "    def insert(self,value,location):\n",
    "        newnode = Node(value)\n",
    "        if self.head is None:\n",
    "            self.head = newnode\n",
    "            self.tail = newnode\n",
    "        else:\n",
    "            #insertion at the beginning (location = 0)\n",
    "            if location == 0:\n",
    "                newnode.next = self.head\n",
    "                self.head = newnode\n",
    "            #insertion at the end (location = -1)\n",
    "            elif location == -1:\n",
    "                self.tail.next = newnode\n",
    "                self.tail = newnode\n",
    "            # insertion at the middle (at the specific location)\n",
    "            else:\n",
    "                temp = self.head\n",
    "                index  = 0\n",
    "                while index < location-1:\n",
    "                    temp = temp.next\n",
    "                    index +=1\n",
    "                nextnode = temp.next\n",
    "                temp.next = newnode\n",
    "                newnode.next = nextnode\n",
    "    # Traverse the whole linked list            \n",
    "    def Traverse(self):\n",
    "        if self.head == None:\n",
    "            print(\"Tne Linked list is None! Not created yet!\")\n",
    "        else:\n",
    "            node = self.head\n",
    "            while node.next != None:\n",
    "                print(node.value)\n",
    "                node = node.next\n",
    "            \n",
    "    # Search the linked list\n",
    "    def Search(self,value):\n",
    "        if self.head == None:\n",
    "            print(\"Tne Linked list is None! Not created yet!\")\n",
    "        else:\n",
    "            node = self.head\n",
    "            index = 0\n",
    "            while node.next != None:\n",
    "                if node.value == value:\n",
    "                    print(\"The value present in the linkedlist! at the index--- : {} (index starts from zero)\".format(index))\n",
    "                    break\n",
    "                else:\n",
    "                    node = node.next\n",
    "                    index += 1\n",
    "            if node.next == None:\n",
    "                print(\"The value not present in the linkedlist!!!\")\n",
    "    def Delete(self,location):\n",
    "        \n",
    "        if self.head is None:\n",
    "            print(\"The LinkedList is empty!!!\")\n",
    "        else:\n",
    "            #delete at the beginning (location = 0)\n",
    "            if location == 0:\n",
    "                #if it have only one node\n",
    "                if self.head == self.tail:\n",
    "                    self.head = None\n",
    "                    self.tail = None\n",
    "                else:\n",
    "                    self.head = self.head.next\n",
    "                    print(\"The node is deleted!!!\")\n",
    "            #delete at the end (location = -1)\n",
    "            elif location == -1:\n",
    "                #if it have only one node\n",
    "                if self.head == self.tail:\n",
    "                    self.head = None\n",
    "                    self.tail = None\n",
    "                    print(\"The node is deleted!!!\")\n",
    "                else:\n",
    "                    \n",
    "                    node = self.head\n",
    "                    while node is not None:\n",
    "                        #finding the previous node to the last node\n",
    "                        if node.next == self.tail:\n",
    "                            break\n",
    "                        node = node.next\n",
    "                    \n",
    "                    node.next = None\n",
    "                    self.tail = node\n",
    "                    print(\"The node is deleted!!!\")\n",
    "            # delete at the middle (at the specific location)\n",
    "            else:\n",
    "                temp = self.head\n",
    "                index  = 0\n",
    "                while index < location-1:\n",
    "                    temp = temp.next\n",
    "                    index +=1\n",
    "                nextnode = temp.next\n",
    "                temp.next = nextnode.next\n",
    "                print(\"The node is deleted!!!\")\n",
    "    def DeleteFull(self):\n",
    "        if self.head == None:\n",
    "            print(\"The Linked List is already empty!!!\")\n",
    "        else:\n",
    "            self.head = None\n",
    "            self.tail = None\n",
    "            print(\"LinkedList Deleted!!!\")"
   ]
  },
  {
   "cell_type": "code",
   "execution_count": 147,
   "metadata": {},
   "outputs": [],
   "source": [
    "#create the nodes and make the link betweeen it\n",
    "node1 = Node(1)\n",
    "node2 = Node(2)\n",
    "\n",
    "sll=SinglyLinkedList()\n",
    "sll.head = node1\n",
    "sll.head.next = node2\n",
    "sll.tail = node2\n",
    "\n"
   ]
  },
  {
   "cell_type": "code",
   "execution_count": 148,
   "metadata": {},
   "outputs": [
    {
     "name": "stdout",
     "output_type": "stream",
     "text": [
      "[0, 0, 1, 2, 3, 4, 5]\n"
     ]
    }
   ],
   "source": [
    "# insert some element at the beginning and end and middle\n",
    "sll.insert(3,-1)\n",
    "sll.insert(4,-1)\n",
    "sll.insert(5,-1)\n",
    "\n",
    "sll.insert(0,0)\n",
    "sll.insert(0,0)\n",
    "print([node.value for node in sll])"
   ]
  },
  {
   "cell_type": "code",
   "execution_count": 149,
   "metadata": {},
   "outputs": [
    {
     "name": "stdout",
     "output_type": "stream",
     "text": [
      "[0, 0, 1, 5, 2, 3, 4, 5]\n"
     ]
    }
   ],
   "source": [
    "#insert at the middle\n",
    "sll.insert(5,3)\n",
    "print([node.value for node in sll])"
   ]
  },
  {
   "cell_type": "code",
   "execution_count": 150,
   "metadata": {},
   "outputs": [
    {
     "name": "stdout",
     "output_type": "stream",
     "text": [
      "0\n",
      "0\n",
      "1\n",
      "5\n",
      "2\n",
      "3\n",
      "4\n"
     ]
    }
   ],
   "source": [
    "# Traverse through the linked list\n",
    "#add traverse method in the SinglyLinkedList class\n",
    "sll.Traverse()"
   ]
  },
  {
   "cell_type": "code",
   "execution_count": 151,
   "metadata": {},
   "outputs": [
    {
     "name": "stdout",
     "output_type": "stream",
     "text": [
      "The value present in the linkedlist! at the index--- : 3 (index starts from zero)\n",
      "The value not present in the linkedlist!!!\n"
     ]
    }
   ],
   "source": [
    "# Search the given value in the list\n",
    "# add the Search method in the SinglyLinkedList class\n",
    "sll.Search(5)\n",
    "sll.Search(10)"
   ]
  },
  {
   "cell_type": "code",
   "execution_count": 152,
   "metadata": {},
   "outputs": [
    {
     "name": "stdout",
     "output_type": "stream",
     "text": [
      "before deletion\n",
      "[0, 0, 1, 5, 2, 3, 4, 5]\n",
      "delete from the begging\n",
      "The node is deleted!!!\n",
      "[0, 1, 5, 2, 3, 4, 5]\n",
      "delete at the end\n",
      "The node is deleted!!!\n",
      "[0, 1, 5, 2, 3, 4]\n",
      "delete at the given location\n",
      "The node is deleted!!!\n",
      "[0, 1, 5, 3, 4]\n"
     ]
    }
   ],
   "source": [
    "# Delete the value \n",
    "# add the delete method in the SinglyLinkedList class\n",
    "print(\"before deletion\")\n",
    "print([node.value for node in sll])\n",
    "\n",
    "print(\"delete from the begging\")\n",
    "sll.Delete(0)\n",
    "print([node.value for node in sll])\n",
    "\n",
    "print(\"delete at the end\")\n",
    "sll.Delete(-1)\n",
    "print([node.value for node in sll])\n",
    "\n",
    "print(\"delete at the given location\")\n",
    "sll.Delete(3)\n",
    "print([node.value for node in sll])"
   ]
  },
  {
   "cell_type": "code",
   "execution_count": 153,
   "metadata": {},
   "outputs": [
    {
     "name": "stdout",
     "output_type": "stream",
     "text": [
      "LinkedList Deleted!!!\n",
      "Tne Linked list is None! Not created yet!\n",
      "[]\n"
     ]
    }
   ],
   "source": [
    "# Delete the entier linkde list\n",
    "# add delete entier linked list to the class\n",
    "sll.DeleteFull()\n",
    "print([node.value for node in sll])"
   ]
  },
  {
   "cell_type": "code",
   "execution_count": null,
   "metadata": {},
   "outputs": [],
   "source": [
    "# "
   ]
  }
 ],
 "metadata": {
  "kernelspec": {
   "display_name": "Python 3",
   "language": "python",
   "name": "python3"
  },
  "language_info": {
   "codemirror_mode": {
    "name": "ipython",
    "version": 3
   },
   "file_extension": ".py",
   "mimetype": "text/x-python",
   "name": "python",
   "nbconvert_exporter": "python",
   "pygments_lexer": "ipython3",
   "version": "3.7.6"
  }
 },
 "nbformat": 4,
 "nbformat_minor": 4
}
