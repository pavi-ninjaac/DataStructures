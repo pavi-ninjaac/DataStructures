{
 "cells": [
  {
   "cell_type": "markdown",
   "metadata": {},
   "source": [
    "# Circular Singly LinkedList"
   ]
  },
  {
   "cell_type": "code",
   "execution_count": 6,
   "metadata": {},
   "outputs": [],
   "source": [
    "# step---1 Creation of the nodes and link\n",
    "class Node:\n",
    "    def __init__(self,value=None):\n",
    "        self.value = value\n",
    "        self.next = None"
   ]
  },
  {
   "cell_type": "code",
   "execution_count": 36,
   "metadata": {},
   "outputs": [],
   "source": [
    "# create the link class\n",
    "class CircularLinkedList:\n",
    "    def __init__(self):\n",
    "        self.head = None\n",
    "        self.tail = None\n",
    "    \n",
    "    def __iter__(self):\n",
    "        if self.head == None:\n",
    "            print(\"The Linked list is None! Not created yet!\")  \n",
    "        else:\n",
    "            node = self.head\n",
    "            while node:\n",
    "                yield node\n",
    "                node = node.next \n",
    "                if node == self.tail.next:\n",
    "                    break\n",
    "                    \n",
    "    def CreateFirstNode(self,value):\n",
    "        node = Node(value)\n",
    "        node.next = node\n",
    "        self.head = node\n",
    "        self.tail = node\n",
    "        print(\"First node created!!!\")\n",
    "    \n",
    "    #insertion in the Linkedlist\n",
    "    def insert(self,value,location):\n",
    "        newnode = Node(value)\n",
    "        if self.head == None:\n",
    "            print(\"The head reference is None!!Create the first node first-->\")\n",
    "        else:\n",
    "            #insert at the Beggining (location = 0)\n",
    "            if location == 0:\n",
    "                newnode.next = self.head\n",
    "                self.head = newnode\n",
    "                self.tail.next = newnode\n",
    "             #insertion at the end (location = -1)\n",
    "            elif location == -1:\n",
    "                newnode.next = self.tail.next\n",
    "                self.tail.next = newnode\n",
    "                self.tail = newnode\n",
    "            # insertion at the middle (at the specific location)\n",
    "            else:\n",
    "                temp = self.head\n",
    "                index  = 0\n",
    "                while index < location-1:\n",
    "                    temp = temp.next\n",
    "                    index +=1\n",
    "                nextnode = temp.next\n",
    "                temp.next = newnode\n",
    "                newnode.next = nextnode\n",
    "            print(\"Insertion Successfull!!!\")\n",
    "            \n",
    "    # Traverse the whole linked list  \n",
    "    def Traverse(self):\n",
    "        if self.head == None:\n",
    "            print(\"Tne Linked list is None! Not created yet!\")\n",
    "        else:\n",
    "            node = self.head\n",
    "            while node:\n",
    "                print(node.value)\n",
    "                node = node.next\n",
    "                if node == self.tail.next:\n",
    "                    break\n",
    "    \n",
    "    # Search the given value\n",
    "    def Search(self,value):\n",
    "        if self.head == None:\n",
    "            print(\"The Linked List is empty!!\")\n",
    "        else:\n",
    "            node = self.head\n",
    "            index = 0\n",
    "            while node:\n",
    "                if node.value == value:\n",
    "                    print(\"The value present in the linkedlist! at the index--- : {} (index starts from zero)\".format(index))\n",
    "                    break\n",
    "                else:\n",
    "                    node = node.next\n",
    "                    index +=1\n",
    "                    if node == self.tail.next:\n",
    "                        print(\"The value not present in the LinkedList!!!\")\n",
    "                        break\n",
    "                                       \n",
    "    #Deletion operation\n",
    "    def Delete(self,location):\n",
    "        if self.head == None:\n",
    "            print(\"The LinkedList is empty!!!\")\n",
    "        else:\n",
    "            if self.head == self.tail:\n",
    "                self.head = None\n",
    "                self.tail = None\n",
    "            else:\n",
    "                if location == 0:\n",
    "                    \n",
    "                \n",
    "        \n",
    "                    "
   ]
  },
  {
   "cell_type": "code",
   "execution_count": 37,
   "metadata": {},
   "outputs": [
    {
     "name": "stdout",
     "output_type": "stream",
     "text": [
      "First node created!!!\n",
      "[1]\n"
     ]
    }
   ],
   "source": [
    "cll = CircularLinkedList()\n",
    "cll.CreateFirstNode(1)\n",
    "print([node.value for node in cll])"
   ]
  },
  {
   "cell_type": "code",
   "execution_count": 38,
   "metadata": {},
   "outputs": [
    {
     "name": "stdout",
     "output_type": "stream",
     "text": [
      "Insertion Successfull!!!\n",
      "Insertion Successfull!!!\n",
      "Insertion Successfull!!!\n",
      "Insertion Successfull!!!\n",
      "Insertion Successfull!!!\n",
      "[0, 0, 1, 3, 4, 5]\n"
     ]
    }
   ],
   "source": [
    "# insert some element at the beginning and end and middle\n",
    "cll.insert(3,-1)\n",
    "cll.insert(4,-1)\n",
    "cll.insert(5,-1)\n",
    "\n",
    "cll.insert(0,0)\n",
    "cll.insert(0,0)\n",
    "print([node.value for node in cll])"
   ]
  },
  {
   "cell_type": "code",
   "execution_count": 39,
   "metadata": {},
   "outputs": [
    {
     "name": "stdout",
     "output_type": "stream",
     "text": [
      "Insertion Successfull!!!\n",
      "[0, 0, 1, 5, 3, 4, 5]\n"
     ]
    }
   ],
   "source": [
    "#insert at the middle\n",
    "cll.insert(5,3)\n",
    "print([node.value for node in cll])"
   ]
  },
  {
   "cell_type": "code",
   "execution_count": 40,
   "metadata": {},
   "outputs": [
    {
     "name": "stdout",
     "output_type": "stream",
     "text": [
      "0\n",
      "0\n",
      "1\n",
      "5\n",
      "3\n",
      "4\n",
      "5\n"
     ]
    }
   ],
   "source": [
    "# Traverse through the linked list\n",
    "#add traverse method in the CircularLinkedList class\n",
    "cll.Traverse()"
   ]
  },
  {
   "cell_type": "code",
   "execution_count": 41,
   "metadata": {},
   "outputs": [
    {
     "name": "stdout",
     "output_type": "stream",
     "text": [
      "The value present in the linkedlist! at the index--- : 3 (index starts from zero)\n",
      "The value not present in the LinkedList!!!\n"
     ]
    }
   ],
   "source": [
    "# Search the given value in the list\n",
    "# add the Search method in the CircularLinkedList class\n",
    "cll.Search(5)\n",
    "cll.Search(10)"
   ]
  },
  {
   "cell_type": "code",
   "execution_count": null,
   "metadata": {},
   "outputs": [],
   "source": [
    "# Delete the value \n",
    "# add the delete method in the SinglyLinkedList class\n",
    "print(\"before deletion\")\n",
    "print([node.value for node in cll])\n",
    "\n",
    "print(\"delete from the begging\")\n",
    "cll.Delete(0)\n",
    "print([node.value for node in cll])\n",
    "\n",
    "print(\"delete at the end\")\n",
    "cll.Delete(-1)\n",
    "print([node.value for node in cll])\n",
    "\n",
    "print(\"delete at the given location\")\n",
    "cll.Delete(3)\n",
    "print([node.value for node in cll])"
   ]
  }
 ],
 "metadata": {
  "kernelspec": {
   "display_name": "Python 3",
   "language": "python",
   "name": "python3"
  },
  "language_info": {
   "codemirror_mode": {
    "name": "ipython",
    "version": 3
   },
   "file_extension": ".py",
   "mimetype": "text/x-python",
   "name": "python",
   "nbconvert_exporter": "python",
   "pygments_lexer": "ipython3",
   "version": "3.7.6"
  }
 },
 "nbformat": 4,
 "nbformat_minor": 4
}
