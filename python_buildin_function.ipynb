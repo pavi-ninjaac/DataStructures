{
 "cells": [
  {
   "cell_type": "markdown",
   "metadata": {},
   "source": [
    "# binary representation"
   ]
  },
  {
   "cell_type": "code",
   "execution_count": 2,
   "metadata": {},
   "outputs": [
    {
     "data": {
      "text/plain": [
       "('0b1110', '1110')"
      ]
     },
     "execution_count": 2,
     "metadata": {},
     "output_type": "execute_result"
    }
   ],
   "source": [
    "a=14\n",
    "format(14, '#b'), format(a, 'b')"
   ]
  },
  {
   "cell_type": "code",
   "execution_count": 11,
   "metadata": {},
   "outputs": [
    {
     "name": "stdout",
     "output_type": "stream",
     "text": [
      "the binary representatio  of 2 2\n"
     ]
    }
   ],
   "source": [
    "print (\"the binary representatio  of 2 {}\".format(2, '#b'))"
   ]
  },
  {
   "cell_type": "code",
   "execution_count": 19,
   "metadata": {},
   "outputs": [
    {
     "name": "stdout",
     "output_type": "stream",
     "text": [
      "0\n",
      "1\n",
      "10\n",
      "11\n",
      "100\n",
      "101\n",
      "110\n",
      "111\n",
      "1000\n",
      "1001\n"
     ]
    }
   ],
   "source": [
    "for i in range(10):\n",
    "    print(format(i,'b'))"
   ]
  },
  {
   "cell_type": "code",
   "execution_count": 18,
   "metadata": {
    "scrolled": true
   },
   "outputs": [
    {
     "name": "stdout",
     "output_type": "stream",
     "text": [
      "-1010\n",
      "-1001\n",
      "-1000\n",
      "-111\n",
      "-110\n",
      "-101\n",
      "-100\n",
      "-11\n"
     ]
    }
   ],
   "source": [
    "for i in range(-10,-2):\n",
    "    print(format(i,'b'))"
   ]
  },
  {
   "cell_type": "markdown",
   "metadata": {},
   "source": [
    "# hex and octal"
   ]
  },
  {
   "cell_type": "code",
   "execution_count": 82,
   "metadata": {},
   "outputs": [
    {
     "name": "stdout",
     "output_type": "stream",
     "text": [
      "0xff\n",
      "0xff ff FF\n"
     ]
    }
   ],
   "source": [
    "print(hex(255))\n",
    "print(format(255, '#x'), format(255, 'x'), format(255, 'X'))"
   ]
  },
  {
   "cell_type": "code",
   "execution_count": 83,
   "metadata": {},
   "outputs": [
    {
     "name": "stdout",
     "output_type": "stream",
     "text": [
      "0o173\n",
      "0o12 12\n"
     ]
    }
   ],
   "source": [
    "print(oct(123))\n",
    "print(format(10, '#o'), format(10, 'o'))"
   ]
  },
  {
   "cell_type": "markdown",
   "metadata": {},
   "source": [
    "# chr and bool"
   ]
  },
  {
   "cell_type": "code",
   "execution_count": 31,
   "metadata": {},
   "outputs": [
    {
     "name": "stdout",
     "output_type": "stream",
     "text": [
      "None False\n",
      "1 True\n",
      "-123 True\n",
      "python True\n",
      "0 False\n",
      "[True,False] True\n",
      "False False\n"
     ]
    }
   ],
   "source": [
    "print(\"None\",bool(None))\n",
    "print(\"1\",bool(1))\n",
    "print(\"-123\",bool(-123))\n",
    "print(\"python\",bool(\"python\"))\n",
    "print(\"0\",bool(0))\n",
    "print(\"[True,False]\",bool([True,False]))\n",
    "print(\"False\",bool(False))"
   ]
  },
  {
   "cell_type": "code",
   "execution_count": 33,
   "metadata": {},
   "outputs": [
    {
     "name": "stdout",
     "output_type": "stream",
     "text": [
      "{\n",
      "a\n"
     ]
    }
   ],
   "source": [
    "# chr(asciii value)\n",
    "#range from 0 to 1,114,111 (0x10FFFF in base 16)\n",
    "print(chr(123))\n",
    "print(chr(ord('a')))"
   ]
  },
  {
   "cell_type": "markdown",
   "metadata": {},
   "source": [
    "# Complex numbers "
   ]
  },
  {
   "cell_type": "code",
   "execution_count": 44,
   "metadata": {},
   "outputs": [
    {
     "name": "stdout",
     "output_type": "stream",
     "text": [
      "(18+0j)\n",
      "(18+1j)\n",
      "18j\n",
      "------------------------------------------------------------\n",
      "2+1i\n",
      "2 + 1j\n"
     ]
    }
   ],
   "source": [
    "#complex(real_number,imaginary_number)\n",
    "print(complex(18))\n",
    "print(complex(18,1))\n",
    "print(complex(0,18))\n",
    "print('-'*60)\n",
    "print('2+1i')\n",
    "print('2 + 1j')"
   ]
  },
  {
   "cell_type": "code",
   "execution_count": 47,
   "metadata": {},
   "outputs": [
    {
     "name": "stdout",
     "output_type": "stream",
     "text": [
      "(2, 1)\n",
      "[(0, 'Spring'), (1, 'Summer'), (2, 'Fall'), (3, 'Winter')]\n",
      "[(1, 'Spring'), (2, 'Summer'), (3, 'Fall'), (4, 'Winter')]\n"
     ]
    }
   ],
   "source": [
    "print(divmod(5,2))\n",
    "\n",
    "seasons = ['Spring', 'Summer', 'Fall', 'Winter']\n",
    "print(list(enumerate(seasons)))\n",
    "\n",
    "print(list(enumerate(seasons, start=1)))"
   ]
  },
  {
   "cell_type": "markdown",
   "metadata": {},
   "source": [
    "# string evluation"
   ]
  },
  {
   "cell_type": "code",
   "execution_count": 48,
   "metadata": {},
   "outputs": [
    {
     "data": {
      "text/plain": [
       "14"
      ]
     },
     "execution_count": 48,
     "metadata": {},
     "output_type": "execute_result"
    }
   ],
   "source": [
    "x=12\n",
    "eval('x+2')"
   ]
  },
  {
   "cell_type": "markdown",
   "metadata": {},
   "source": [
    "# numberic function int float complex"
   ]
  },
  {
   "cell_type": "code",
   "execution_count": 53,
   "metadata": {},
   "outputs": [
    {
     "name": "stdout",
     "output_type": "stream",
     "text": [
      "1.23\n",
      "-12345.0\n",
      "0.001\n",
      "1000000.0\n",
      "-inf\n"
     ]
    }
   ],
   "source": [
    "print(float('+1.23'))\n",
    "\n",
    "print(float('   -12345\\n'))\n",
    "\n",
    "print(float('1e-003'))\n",
    "\n",
    "print(float('+1E6'))\n",
    "\n",
    "print(float('-Infinity'))"
   ]
  },
  {
   "cell_type": "markdown",
   "metadata": {},
   "source": [
    "# format important in python"
   ]
  },
  {
   "cell_type": "code",
   "execution_count": 80,
   "metadata": {},
   "outputs": [
    {
     "name": "stdout",
     "output_type": "stream",
     "text": [
      "    5     5     5   101 \n",
      "    6     6     6   110 \n",
      "    7     7     7   111 \n",
      "    8     8    10  1000 \n",
      "    9     9    11  1001 \n",
      "   10     A    12  1010 \n",
      "   11     B    13  1011 \n"
     ]
    }
   ],
   "source": [
    "width = 5\n",
    "for num in range(5,12): \n",
    "    for base in 'dXob':\n",
    "        print('{0:{width}{base}}'.format(num, base=base, width=width), end=' ')\n",
    "    print()"
   ]
  },
  {
   "cell_type": "code",
   "execution_count": 76,
   "metadata": {},
   "outputs": [
    {
     "name": "stdout",
     "output_type": "stream",
     "text": [
      "c, b, a\n",
      "Coordinates: 37.24N, -115.81W\n",
      "X: 3;  Y: 5\n"
     ]
    }
   ],
   "source": [
    "print('{2}, {1}, {0}'.format(*'abc')  ) #unbacking arguments\n",
    "coord = {'latitude': '37.24N', 'longitude': '-115.81W'}\n",
    "print('Coordinates: {latitude}, {longitude}'.format(**coord))\n",
    "\n",
    "coord = (3, 5)\n",
    "print('X: {0[0]};  Y: {0[1]}'.format(coord))"
   ]
  },
  {
   "cell_type": "code",
   "execution_count": 79,
   "metadata": {},
   "outputs": [
    {
     "name": "stdout",
     "output_type": "stream",
     "text": [
      "49 50 51\n"
     ]
    }
   ],
   "source": [
    "def o(n):\n",
    "    return ord(str(n))\n",
    "a,b,c=map(o,[1,2,3])\n",
    "print(a,b,c)\n"
   ]
  },
  {
   "cell_type": "markdown",
   "metadata": {},
   "source": [
    "# Next and iter"
   ]
  },
  {
   "cell_type": "code",
   "execution_count": 89,
   "metadata": {},
   "outputs": [
    {
     "name": "stdout",
     "output_type": "stream",
     "text": [
      "1\n",
      "2\n",
      "3\n",
      "4\n"
     ]
    }
   ],
   "source": [
    "def iterator(list_iter):\n",
    "    \n",
    "    print(next(list_iter))\n",
    "list_iter = iter([1,2,3,4])    \n",
    "iterator(list_iter)\n",
    "iterator(list_iter)\n",
    "iterator(list_iter)\n",
    "iterator(list_iter)"
   ]
  },
  {
   "cell_type": "code",
   "execution_count": 93,
   "metadata": {},
   "outputs": [
    {
     "data": {
      "text/plain": [
       "86"
      ]
     },
     "execution_count": 93,
     "metadata": {},
     "output_type": "execute_result"
    }
   ],
   "source": [
    "#pow(base,exp,mod) =====> (38**2) % 97\n",
    "pow(38, 2, 97)\n"
   ]
  },
  {
   "cell_type": "markdown",
   "metadata": {},
   "source": [
    "# Slice "
   ]
  },
  {
   "cell_type": "code",
   "execution_count": 94,
   "metadata": {},
   "outputs": [
    {
     "name": "stdout",
     "output_type": "stream",
     "text": [
      "Pyt\n",
      "yhn\n"
     ]
    }
   ],
   "source": [
    "# Program to get a substring from the given string \n",
    "\n",
    "py_string = 'Python'\n",
    "\n",
    "# stop = 3\n",
    "# contains 0, 1 and 2 indices\n",
    "slice_object = slice(3) \n",
    "print(py_string[slice_object])  # Pyt\n",
    "\n",
    "# start = 1, stop = 6, step = 2\n",
    "# contains 1, 3 and 5 indices\n",
    "slice_object = slice(1, 6, 2)\n",
    "print(py_string[slice_object])   # yhn"
   ]
  },
  {
   "cell_type": "markdown",
   "metadata": {},
   "source": [
    "# map,filter,reduce    lambda\n"
   ]
  },
  {
   "cell_type": "code",
   "execution_count": 97,
   "metadata": {},
   "outputs": [
    {
     "data": {
      "text/plain": [
       "3"
      ]
     },
     "execution_count": 97,
     "metadata": {},
     "output_type": "execute_result"
    }
   ],
   "source": [
    "# lambda imput : expresion\n",
    "#must have one expression and one output and can have multiple input\n",
    "y=lambda x,y : x+y\n",
    "y(1,2)"
   ]
  },
  {
   "cell_type": "code",
   "execution_count": 104,
   "metadata": {},
   "outputs": [
    {
     "name": "stdout",
     "output_type": "stream",
     "text": [
      "[True, False, True, False]\n",
      "Another way\n",
      "[True, False, True, False]\n"
     ]
    }
   ],
   "source": [
    "# map - iter over the list to the function\n",
    "# map(function , iterator)\n",
    "\n",
    "def star_with_A(a):\n",
    "    return a[0] == 'A'\n",
    "map_object = map(star_with_A,[\"Apple\",\"Ban\",\"App\",\"ahi\"])\n",
    "print(list(map_object))\n",
    "\n",
    "# another way\n",
    "print(\"Another way\")\n",
    "print(list(map(lambda x : x[0] == \"A\" , [\"Apple\",\"Ban\",\"App\",\"ahi\"])))\n"
   ]
  },
  {
   "cell_type": "code",
   "execution_count": 105,
   "metadata": {},
   "outputs": [
    {
     "name": "stdout",
     "output_type": "stream",
     "text": [
      "['Apple', 'App']\n",
      "Another way\n",
      "['Apple', 'App']\n"
     ]
    }
   ],
   "source": [
    "# filter =====> return the iterator items which statisfis the function\n",
    "\n",
    "def star_with_A(a):\n",
    "    return a[0] == 'A'\n",
    "map_object = filter(star_with_A,[\"Apple\",\"Ban\",\"App\",\"ahi\"])\n",
    "print(list(map_object))\n",
    "\n",
    "# another way\n",
    "print(\"Another way\")\n",
    "print(list(filter(lambda x : x[0] == \"A\" , [\"Apple\",\"Ban\",\"App\",\"ahi\"])))"
   ]
  },
  {
   "cell_type": "code",
   "execution_count": 106,
   "metadata": {},
   "outputs": [
    {
     "name": "stdout",
     "output_type": "stream",
     "text": [
      "16\n"
     ]
    }
   ],
   "source": [
    "# reduce ======> reduce the given list to one answer\n",
    "from functools import reduce\n",
    "\n",
    "def add(x, y):\n",
    "    return x + y\n",
    "\n",
    "list = [2, 4, 7, 3]\n",
    "print(reduce(add, list))"
   ]
  },
  {
   "cell_type": "markdown",
   "metadata": {},
   "source": [
    "#   *arge **kwargs"
   ]
  },
  {
   "cell_type": "code",
   "execution_count": 98,
   "metadata": {},
   "outputs": [
    {
     "name": "stdout",
     "output_type": "stream",
     "text": [
      "Sum: 8\n",
      "Sum: 22\n",
      "Sum: 17\n"
     ]
    }
   ],
   "source": [
    "# *args(non keyword arguments)\n",
    "# **kwargs (keyword arguments)\n",
    "def adder(*num):\n",
    "    sum = 0\n",
    "    \n",
    "    for n in num:\n",
    "        sum = sum + n\n",
    "\n",
    "    print(\"Sum:\",sum)\n",
    "\n",
    "adder(3,5)\n",
    "adder(4,5,6,7)\n",
    "adder(1,2,3,5,6)"
   ]
  },
  {
   "cell_type": "code",
   "execution_count": 99,
   "metadata": {},
   "outputs": [
    {
     "name": "stdout",
     "output_type": "stream",
     "text": [
      "\n",
      "Data type of argument: <class 'dict'>\n",
      "Firstname is Sita\n",
      "Lastname is Sharma\n",
      "Age is 22\n",
      "Phone is 1234567890\n",
      "\n",
      "Data type of argument: <class 'dict'>\n",
      "Firstname is John\n",
      "Lastname is Wood\n",
      "Email is johnwood@nomail.com\n",
      "Country is Wakanda\n",
      "Age is 25\n",
      "Phone is 9876543210\n"
     ]
    }
   ],
   "source": [
    "def intro(**data):\n",
    "    print(\"\\nData type of argument:\",type(data))\n",
    "\n",
    "    for key, value in data.items():\n",
    "        print(\"{} is {}\".format(key,value))\n",
    "\n",
    "intro(Firstname=\"Sita\", Lastname=\"Sharma\", Age=22, Phone=1234567890)\n",
    "intro(Firstname=\"John\", Lastname=\"Wood\", Email=\"johnwood@nomail.com\", Country=\"Wakanda\", Age=25, Phone=9876543210)"
   ]
  },
  {
   "cell_type": "markdown",
   "metadata": {},
   "source": [
    "# yield\n"
   ]
  },
  {
   "cell_type": "code",
   "execution_count": 114,
   "metadata": {},
   "outputs": [
    {
     "name": "stdout",
     "output_type": "stream",
     "text": [
      "1 4 9 16 \n",
      "[1, 4, 9, 16]\n"
     ]
    }
   ],
   "source": [
    "def useof_yield(l):\n",
    "    for i in l:\n",
    "        yield i*i\n",
    "        \n",
    "obj = useof_yield([1,2,3,4])\n",
    "ob = useof_yield([1,2,3,4])\n",
    "for o in obj:\n",
    "    print(o,end= ' ')\n",
    "print()\n",
    "print([x for x in ob])"
   ]
  },
  {
   "cell_type": "code",
   "execution_count": null,
   "metadata": {},
   "outputs": [],
   "source": []
  }
 ],
 "metadata": {
  "kernelspec": {
   "display_name": "Python 3",
   "language": "python",
   "name": "python3"
  },
  "language_info": {
   "codemirror_mode": {
    "name": "ipython",
    "version": 3
   },
   "file_extension": ".py",
   "mimetype": "text/x-python",
   "name": "python",
   "nbconvert_exporter": "python",
   "pygments_lexer": "ipython3",
   "version": "3.7.6"
  }
 },
 "nbformat": 4,
 "nbformat_minor": 4
}
