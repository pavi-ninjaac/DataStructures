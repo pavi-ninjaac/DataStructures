{
 "cells": [
  {
   "cell_type": "markdown",
   "metadata": {},
   "source": [
    "# Recorsion Examples"
   ]
  },
  {
   "cell_type": "code",
   "execution_count": 8,
   "metadata": {},
   "outputs": [
    {
     "data": {
      "text/plain": [
       "10"
      ]
     },
     "execution_count": 8,
     "metadata": {},
     "output_type": "execute_result"
    }
   ],
   "source": [
    "# Example 1-----\n",
    "# Sum of digits======\n",
    "\n",
    "def sumofDigits(n):\n",
    "    assert n>=0 and int(n)==n , \"The number should be a positive integer Only!!\"\n",
    "    if n==0:\n",
    "        return 0\n",
    "    else:\n",
    "        return n%10 + sumofDigits(n//10)\n",
    "\n",
    "    \n",
    "sumofDigits(1234)"
   ]
  },
  {
   "cell_type": "code",
   "execution_count": 16,
   "metadata": {},
   "outputs": [
    {
     "name": "stdout",
     "output_type": "stream",
     "text": [
      "case 1 16\n",
      "case 2 23.42560000000001\n"
     ]
    },
    {
     "ename": "AssertionError",
     "evalue": "The number shoud be positve integer only!",
     "output_type": "error",
     "traceback": [
      "\u001b[1;31m---------------------------------------------------------------------------\u001b[0m",
      "\u001b[1;31mAssertionError\u001b[0m                            Traceback (most recent call last)",
      "\u001b[1;32m<ipython-input-16-706222e3fe96>\u001b[0m in \u001b[0;36m<module>\u001b[1;34m\u001b[0m\n\u001b[0;32m     13\u001b[0m \u001b[1;33m\u001b[0m\u001b[0m\n\u001b[0;32m     14\u001b[0m \u001b[1;31m#here th error comes so use the assert for this\u001b[0m\u001b[1;33m\u001b[0m\u001b[1;33m\u001b[0m\u001b[1;33m\u001b[0m\u001b[0m\n\u001b[1;32m---> 15\u001b[1;33m \u001b[0mprint\u001b[0m\u001b[1;33m(\u001b[0m\u001b[1;34m\"case 3\"\u001b[0m\u001b[1;33m,\u001b[0m\u001b[0mpower\u001b[0m\u001b[1;33m(\u001b[0m \u001b[1;36m2\u001b[0m \u001b[1;33m,\u001b[0m \u001b[1;33m-\u001b[0m\u001b[1;36m4\u001b[0m \u001b[1;33m)\u001b[0m\u001b[1;33m)\u001b[0m\u001b[1;33m\u001b[0m\u001b[1;33m\u001b[0m\u001b[0m\n\u001b[0m\u001b[0;32m     16\u001b[0m \u001b[0mprint\u001b[0m\u001b[1;33m(\u001b[0m\u001b[1;34m\"case 4\"\u001b[0m\u001b[1;33m,\u001b[0m\u001b[0mpower\u001b[0m\u001b[1;33m(\u001b[0m \u001b[1;36m2\u001b[0m \u001b[1;33m,\u001b[0m \u001b[1;36m4.2\u001b[0m \u001b[1;33m)\u001b[0m\u001b[1;33m)\u001b[0m\u001b[1;33m\u001b[0m\u001b[1;33m\u001b[0m\u001b[0m\n",
      "\u001b[1;32m<ipython-input-16-706222e3fe96>\u001b[0m in \u001b[0;36mpower\u001b[1;34m(n, po)\u001b[0m\n\u001b[0;32m      3\u001b[0m \u001b[1;33m\u001b[0m\u001b[0m\n\u001b[0;32m      4\u001b[0m \u001b[1;32mdef\u001b[0m \u001b[0mpower\u001b[0m\u001b[1;33m(\u001b[0m\u001b[0mn\u001b[0m\u001b[1;33m,\u001b[0m\u001b[0mpo\u001b[0m\u001b[1;33m)\u001b[0m\u001b[1;33m:\u001b[0m\u001b[1;33m\u001b[0m\u001b[1;33m\u001b[0m\u001b[0m\n\u001b[1;32m----> 5\u001b[1;33m     \u001b[1;32massert\u001b[0m \u001b[0mpo\u001b[0m\u001b[1;33m>=\u001b[0m \u001b[1;36m0\u001b[0m \u001b[1;32mand\u001b[0m \u001b[0mint\u001b[0m\u001b[1;33m(\u001b[0m\u001b[0mpo\u001b[0m\u001b[1;33m)\u001b[0m \u001b[1;33m==\u001b[0m \u001b[0mpo\u001b[0m \u001b[1;33m,\u001b[0m\u001b[1;34m'The number shoud be positve integer only!'\u001b[0m\u001b[1;33m\u001b[0m\u001b[1;33m\u001b[0m\u001b[0m\n\u001b[0m\u001b[0;32m      6\u001b[0m     \u001b[1;32mif\u001b[0m \u001b[0mpo\u001b[0m \u001b[1;32min\u001b[0m \u001b[1;33m[\u001b[0m\u001b[1;36m0\u001b[0m\u001b[1;33m,\u001b[0m\u001b[1;36m1\u001b[0m\u001b[1;33m]\u001b[0m\u001b[1;33m:\u001b[0m\u001b[1;33m\u001b[0m\u001b[1;33m\u001b[0m\u001b[0m\n\u001b[0;32m      7\u001b[0m         \u001b[1;32mreturn\u001b[0m \u001b[0mn\u001b[0m\u001b[1;33m\u001b[0m\u001b[1;33m\u001b[0m\u001b[0m\n",
      "\u001b[1;31mAssertionError\u001b[0m: The number shoud be positve integer only!"
     ]
    }
   ],
   "source": [
    "# Example 2\n",
    "# number of digits====\n",
    "\n",
    "def power(n,po):\n",
    "    assert po>= 0 and int(po) == po ,'The number shoud be positve integer only!'\n",
    "    if po in [0,1]:\n",
    "        return n\n",
    "    else:\n",
    "        return n * power(n,po-1)\n",
    "    \n",
    "print(\"case 1\",power( -2 ,4 ))\n",
    "print(\"case 2\",power( 2.2 ,4 ))\n",
    "\n",
    "#here th error comes so use the assert for this\n",
    "print(\"case 3\",power( 2 , -4 ))\n",
    "print(\"case 4\",power( 2 , 4.2 ))"
   ]
  },
  {
   "cell_type": "code",
   "execution_count": 21,
   "metadata": {},
   "outputs": [
    {
     "data": {
      "text/plain": [
       "6"
      ]
     },
     "execution_count": 21,
     "metadata": {},
     "output_type": "execute_result"
    }
   ],
   "source": [
    "# Example 3\n",
    "# Greatest Common Divisor====\n",
    "\n",
    "def gcd(a,b):\n",
    "    assert int(a) == a and int(b) == b,\"The number shoud be a integer\"\n",
    "    if a<0:\n",
    "        a = a * -1\n",
    "    if b < 0:\n",
    "        b = b * -1\n",
    "    if b==0:\n",
    "        return a\n",
    "    else:\n",
    "        return gcd(b, a % b)\n",
    "    \n",
    "gcd(48,-18)"
   ]
  },
  {
   "cell_type": "code",
   "execution_count": 28,
   "metadata": {},
   "outputs": [
    {
     "name": "stdout",
     "output_type": "stream",
     "text": [
      "n 10\n",
      "str(DecimalToBinary(5)) + str(0)\n",
      "n 5\n",
      "str(DecimalToBinary(2)) + str(1)\n",
      "n 2\n",
      "str(DecimalToBinary(1)) + str(0)\n"
     ]
    },
    {
     "data": {
      "text/plain": [
       "'1010'"
      ]
     },
     "execution_count": 28,
     "metadata": {},
     "output_type": "execute_result"
    }
   ],
   "source": [
    "# Example 4\n",
    "# Decimal to binary====\n",
    "\n",
    "def DecimalToBinary(n):\n",
    "    if n == 1:\n",
    "        return 1\n",
    "    else:\n",
    "        print(\"n\",n)\n",
    "        print('str(DecimalToBinary({})) + str({})'.format(n//2,n%2))\n",
    "        return  str(DecimalToBinary(n//2)) + str(n%2) \n",
    "    \n",
    "DecimalToBinary(10)"
   ]
  },
  {
   "cell_type": "code",
   "execution_count": 10,
   "metadata": {},
   "outputs": [
    {
     "name": "stdout",
     "output_type": "stream",
     "text": [
      "enter the number of shoes10\n",
      "1 2 3 3 2 4 5\n",
      "enter the number of customer4\n"
     ]
    }
   ],
   "source": [
    "import collections\n",
    "\n",
    "X=input('enter the number of shoes')\n",
    "shoes=collections.Counter(map(int,input().split()))\n",
    "N=input('enter the number of customer')"
   ]
  },
  {
   "cell_type": "code",
   "execution_count": 11,
   "metadata": {},
   "outputs": [
    {
     "data": {
      "text/plain": [
       "Counter({1: 1, 2: 2, 3: 2, 4: 1, 5: 1})"
      ]
     },
     "execution_count": 11,
     "metadata": {},
     "output_type": "execute_result"
    }
   ],
   "source": [
    "shoes"
   ]
  },
  {
   "cell_type": "code",
   "execution_count": 12,
   "metadata": {},
   "outputs": [
    {
     "name": "stdout",
     "output_type": "stream",
     "text": [
      "1 23\n",
      "1\n",
      "23\n",
      "Counter({2: 2, 3: 2, 4: 1, 5: 1, 1: 0})\n",
      "1 23\n",
      "0\n",
      "2 1\n",
      "2\n",
      "24\n",
      "Counter({3: 2, 2: 1, 4: 1, 5: 1, 1: 0})\n",
      "5 10\n",
      "1\n",
      "34\n",
      "Counter({3: 2, 2: 1, 4: 1, 1: 0, 5: 0})\n",
      "34\n"
     ]
    }
   ],
   "source": [
    "earn=0\n",
    "for i in range(int(N)):\n",
    "    \n",
    "    size,price=map(int,input().split())\n",
    "    print(shoes[size])\n",
    "    if shoes[size]!=0:\n",
    "        earn+=price\n",
    "        print(earn)\n",
    "        shoes[size]-=1\n",
    "        print(shoes)\n",
    "print(earn)"
   ]
  },
  {
   "cell_type": "code",
   "execution_count": null,
   "metadata": {},
   "outputs": [],
   "source": []
  }
 ],
 "metadata": {
  "kernelspec": {
   "display_name": "Python 3",
   "language": "python",
   "name": "python3"
  },
  "language_info": {
   "codemirror_mode": {
    "name": "ipython",
    "version": 3
   },
   "file_extension": ".py",
   "mimetype": "text/x-python",
   "name": "python",
   "nbconvert_exporter": "python",
   "pygments_lexer": "ipython3",
   "version": "3.7.6"
  }
 },
 "nbformat": 4,
 "nbformat_minor": 4
}
